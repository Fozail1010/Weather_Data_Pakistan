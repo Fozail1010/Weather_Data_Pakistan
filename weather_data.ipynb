{
 "cells": [
  {
   "cell_type": "markdown",
   "metadata": {},
   "source": [
    "# Weather Data Set of Pakistan Links"
   ]
  },
  {
   "cell_type": "markdown",
   "metadata": {},
   "source": [
    ">- Git hub link: https://github.com/zuhaibkhan22/Weather_Data_Pakistan"
   ]
  },
  {
   "cell_type": "markdown",
   "metadata": {},
   "source": [
    ">- Links"
   ]
  },
  {
   "cell_type": "markdown",
   "metadata": {},
   "source": [
    "1. https://energydata.info/dataset/pakistan-wind-measurement-data\n",
    "2. Kaggle Datasets\n",
    "3. https://rmcpunjab.pmd.gov.pk/metData.php\n",
    "4. http://www.pmd.gov.pk/rnd/rndweb/rnd_new/gfs_00.php\n",
    "5. https://www.iamat.org/country/pakistan/climate-data\n",
    "6. http://ccrd.edu.pk/free.aspx"
   ]
  },
  {
   "cell_type": "code",
   "execution_count": null,
   "metadata": {},
   "outputs": [],
   "source": []
  }
 ],
 "metadata": {
  "language_info": {
   "name": "python"
  },
  "orig_nbformat": 4
 },
 "nbformat": 4,
 "nbformat_minor": 2
}
